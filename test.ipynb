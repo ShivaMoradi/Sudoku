{
 "cells": [
  {
   "cell_type": "code",
   "execution_count": 49,
   "id": "initial_id",
   "metadata": {
    "collapsed": true,
    "ExecuteTime": {
     "end_time": "2024-02-02T20:00:38.199554600Z",
     "start_time": "2024-02-02T20:00:37.812996200Z"
    }
   },
   "outputs": [
    {
     "name": "stdout",
     "output_type": "stream",
     "text": [
      "[[1 0 4 0 0 6 7 0 0]\n",
      " [0 2 8 0 0 3 9 0 0]\n",
      " [6 0 0 0 1 7 2 0 0]\n",
      " [2 5 0 0 0 9 0 3 4]\n",
      " [3 0 0 0 7 0 0 0 0]\n",
      " [0 4 1 0 3 0 6 0 0]\n",
      " [0 7 2 0 4 0 0 8 9]\n",
      " [0 0 0 0 8 0 0 0 5]\n",
      " [9 3 0 0 0 0 0 2 1]]\n"
     ]
    }
   ],
   "source": [
    "import numpy as np\n",
    "\n",
    "# Skapa en np grid/matrix med given siffror\n",
    "given = [\n",
    "    [1, 0, 4, 0, 0, 6, 7, 0, 0],\n",
    "    [0, 2, 8, 0, 0, 3, 9, 0, 0],\n",
    "    [6, 0, 0, 0, 1, 7, 2, 0, 0],\n",
    "    [2, 5, 0, 0, 0, 9, 0, 3, 4],\n",
    "    [3, 0, 0, 0, 7, 0, 0, 0, 0],\n",
    "    [0, 4, 1, 0, 3, 0, 6, 0, 0],\n",
    "    [0, 7, 2, 0, 4, 0, 0, 8, 9],\n",
    "    [0, 0, 0, 0, 8, 0, 0, 0, 5],\n",
    "    [9, 3, 0, 0, 0, 0, 0, 2, 1]\n",
    "]\n",
    "ngiven = np.matrix(given)\n",
    "# skriva ut matrixen\n",
    "print(ngiven)"
   ]
  },
  {
   "cell_type": "code",
   "outputs": [],
   "source": [
    "def board(row, column):  # definiera funktion till pussel\n",
    "    global ngiven\n",
    "    number = input(f\"Guesse a number: \")  # En användare kan gissa en siffran mellan 1-9\n",
    "    try:\n",
    "        number = int(number)\n",
    "        if 1 <= number < 10:\n",
    "            print(f\"You guessed: \", number)\n",
    "        else:\n",
    "            print(f\"The number should be between 1 and 9\")\n",
    "            # finns siffran inne i raden?\n",
    "    except ValueError:\n",
    "        print(\"Please\")\n",
    "    for i in range(0, 9):\n",
    "        if ngiven[row, i] == number:\n",
    "            print(False)\n",
    "        # finns siffran inne i column?\n",
    "    for i in range(0, 9):\n",
    "        if ngiven[i, column] == number:\n",
    "            print(False)\n",
    "        # finns siffran inne i 3x3-underrutnät\n",
    "        # skapar olika sektioner till 3x3-underrutnät\n",
    "    x0 = (column // 3) * 3  # Sektion börjat från row med index 0 till 2 och * 3 for skapa nästa sektioner\n",
    "    y0 = (row // 3) * 3  # Sektion börjat från column med index 0 till 2 och * 3 for skapa nästa sektioner\n",
    "    for i in range(0, 3):\n",
    "        for j in range(0, 3):\n",
    "            if ngiven[y0 + i, x0 + j] == number:\n",
    "                print(False)\n",
    "    print(True)\n",
    " "
   ],
   "metadata": {
    "collapsed": false,
    "ExecuteTime": {
     "end_time": "2024-02-02T20:00:38.289814600Z",
     "start_time": "2024-02-02T20:00:38.208495600Z"
    }
   },
   "id": "bfbafeef57e10ef0",
   "execution_count": 50
  },
  {
   "cell_type": "code",
   "outputs": [],
   "source": [
    "def prettify():\n",
    "    print(\"Output:  \")\n",
    "    global given\n",
    "    j = 0\n",
    "    for row in given:\n",
    "        i = 0\n",
    "        j+=1\n",
    "        for item in row:\n",
    "            i+=1\n",
    "            print(f\" {item} \" , end='')\n",
    "            if i % 3 == 0 and i<9:\n",
    "                print(\" | \", end='')\n",
    "        print()\n",
    "        if j % 3 == 0 and j<9:\n",
    "            print(' - ' * 11)\n",
    "                        "
   ],
   "metadata": {
    "collapsed": false,
    "ExecuteTime": {
     "end_time": "2024-02-02T20:00:52.412488Z",
     "start_time": "2024-02-02T20:00:52.318359500Z"
    }
   },
   "id": "94720cb06f123c6f",
   "execution_count": 53
  },
  {
   "cell_type": "code",
   "outputs": [
    {
     "name": "stdout",
     "output_type": "stream",
     "text": [
      "Output:  \n",
      " 1  0  4  |  0  0  6  |  7  0  0 \n",
      " 0  2  8  |  0  0  3  |  9  0  0 \n",
      " 6  0  0  |  0  1  7  |  2  0  0 \n",
      " -  -  -  -  -  -  -  -  -  -  - \n",
      " 2  5  0  |  0  0  9  |  0  3  4 \n",
      " 3  0  0  |  0  7  0  |  0  0  0 \n",
      " 0  4  1  |  0  3  0  |  6  0  0 \n",
      " -  -  -  -  -  -  -  -  -  -  - \n",
      " 0  7  2  |  0  4  0  |  0  8  9 \n",
      " 0  0  0  |  0  8  0  |  0  0  5 \n",
      " 9  3  0  |  0  0  0  |  0  2  1 \n"
     ]
    },
    {
     "ename": "NameError",
     "evalue": "name 'number' is not defined",
     "output_type": "error",
     "traceback": [
      "\u001B[1;31m---------------------------------------------------------------------------\u001B[0m",
      "\u001B[1;31mNameError\u001B[0m                                 Traceback (most recent call last)",
      "Cell \u001B[1;32mIn[52], line 11\u001B[0m\n\u001B[0;32m      8\u001B[0m                 given[row][column] \u001B[38;5;241m=\u001B[39m \u001B[38;5;241m0\u001B[39m\n\u001B[0;32m     10\u001B[0m prettify()\n\u001B[1;32m---> 11\u001B[0m \u001B[43msolve\u001B[49m\u001B[43m(\u001B[49m\u001B[43m)\u001B[49m\n",
      "Cell \u001B[1;32mIn[52], line 6\u001B[0m, in \u001B[0;36msolve\u001B[1;34m()\u001B[0m\n\u001B[0;32m      4\u001B[0m \u001B[38;5;28;01mfor\u001B[39;00m column \u001B[38;5;129;01min\u001B[39;00m \u001B[38;5;28mrange\u001B[39m(\u001B[38;5;241m9\u001B[39m):\n\u001B[0;32m      5\u001B[0m     \u001B[38;5;28;01mif\u001B[39;00m given[row][column] \u001B[38;5;241m==\u001B[39m \u001B[38;5;241m0\u001B[39m:\n\u001B[1;32m----> 6\u001B[0m         given[row][column] \u001B[38;5;241m=\u001B[39m \u001B[43mnumber\u001B[49m\n\u001B[0;32m      7\u001B[0m         solve()\n\u001B[0;32m      8\u001B[0m         given[row][column] \u001B[38;5;241m=\u001B[39m \u001B[38;5;241m0\u001B[39m\n",
      "\u001B[1;31mNameError\u001B[0m: name 'number' is not defined"
     ]
    }
   ],
   "source": [
    "def solve():\n",
    "    global ngiven\n",
    "    for row in range(9):\n",
    "        for column in range(9):\n",
    "            if given[row][column] == 0:\n",
    "                given[row][column] = number\n",
    "                solve()\n",
    "                given[row][column] = 0\n",
    "\n",
    "prettify()\n",
    "solve()"
   ],
   "metadata": {
    "collapsed": false,
    "ExecuteTime": {
     "end_time": "2024-02-02T20:00:39.437148500Z",
     "start_time": "2024-02-02T20:00:38.388197200Z"
    }
   },
   "id": "b935082e578ee540",
   "execution_count": 52
  }
 ],
 "metadata": {
  "kernelspec": {
   "display_name": "Python 3",
   "language": "python",
   "name": "python3"
  },
  "language_info": {
   "codemirror_mode": {
    "name": "ipython",
    "version": 2
   },
   "file_extension": ".py",
   "mimetype": "text/x-python",
   "name": "python",
   "nbconvert_exporter": "python",
   "pygments_lexer": "ipython2",
   "version": "2.7.6"
  }
 },
 "nbformat": 4,
 "nbformat_minor": 5
}
