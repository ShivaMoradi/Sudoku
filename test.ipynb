{
 "cells": [
  {
   "cell_type": "code",
   "execution_count": 18,
   "id": "initial_id",
   "metadata": {
    "collapsed": true,
    "ExecuteTime": {
     "end_time": "2024-02-02T13:16:13.299852400Z",
     "start_time": "2024-02-02T13:16:13.242670300Z"
    }
   },
   "outputs": [
    {
     "name": "stdout",
     "output_type": "stream",
     "text": [
      "[[1 0 4 0 0 6 7 0 0]\n",
      " [0 2 8 0 0 3 9 0 0]\n",
      " [6 0 0 0 1 7 2 0 0]\n",
      " [2 5 0 0 0 9 0 3 4]\n",
      " [3 0 0 0 7 0 0 0 0]\n",
      " [0 4 1 0 3 0 6 0 0]\n",
      " [0 7 2 0 4 0 0 8 9]\n",
      " [0 0 0 0 8 0 0 0 5]\n",
      " [9 3 0 0 0 0 0 2 1]]\n"
     ]
    }
   ],
   "source": [
    "import numpy as np\n",
    "\n",
    "# Skapa en np grid/matrix med given siffror\n",
    "given = [\n",
    "    [1, 0, 4, 0, 0, 6, 7, 0, 0],\n",
    "    [0, 2, 8, 0, 0, 3, 9, 0, 0],\n",
    "    [6, 0, 0, 0, 1, 7, 2, 0, 0],\n",
    "    [2, 5, 0, 0, 0, 9, 0, 3, 4],\n",
    "    [3, 0, 0, 0, 7, 0, 0, 0, 0],\n",
    "    [0, 4, 1, 0, 3, 0, 6, 0, 0],\n",
    "    [0, 7, 2, 0, 4, 0, 0, 8, 9],\n",
    "    [0, 0, 0, 0, 8, 0, 0, 0, 5],\n",
    "    [9, 3, 0, 0, 0, 0, 0, 2, 1]\n",
    "]\n",
    "ngiven = np.matrix(given)\n",
    "# skriva ut matrixen\n",
    "print(ngiven)"
   ]
  },
  {
   "cell_type": "code",
   "outputs": [],
   "source": [
    "def board(row, column, number):  # definiera funktion till pussel\n",
    "    global ngiven\n",
    "    # finns siffran inne i raden?\n",
    "    for i in range(0, 8):\n",
    "        if ngiven[row, i] == number:\n",
    "            print(False)\n",
    "        # finns siffran inne i column?\n",
    "    for i in range(0, 8):\n",
    "        if ngiven[i, column] == number:\n",
    "            print(False)\n",
    "        # finns siffran inne i 3x3-underrutnät\n",
    "        # skapar olika sektioner till 3x3-underrutnät\n",
    "    x0 = (column // 3) * 3  # Sektion börjat från row med index 0 till 2 och * 3 for skapa nästa sektioner\n",
    "    y0 = (row // 3) * 3  # Sektion börjat från column med index 0 till 2 och * 3 for skapa nästa sektioner\n",
    "    for i in range(0, 2):\n",
    "        for j in range(0, 2):\n",
    "            if ngiven[y0 + i][x0 + j] == number:\n",
    "                print(False)\n",
    "        return True"
   ],
   "metadata": {
    "collapsed": false,
    "ExecuteTime": {
     "end_time": "2024-02-02T13:16:13.300803500Z",
     "start_time": "2024-02-02T13:16:13.255200800Z"
    }
   },
   "id": "bfbafeef57e10ef0",
   "execution_count": 19
  },
  {
   "cell_type": "code",
   "outputs": [
    {
     "ename": "IndexError",
     "evalue": "index 3 is out of bounds for axis 0 with size 1",
     "output_type": "error",
     "traceback": [
      "\u001B[1;31m---------------------------------------------------------------------------\u001B[0m",
      "\u001B[1;31mIndexError\u001B[0m                                Traceback (most recent call last)",
      "Cell \u001B[1;32mIn[20], line 1\u001B[0m\n\u001B[1;32m----> 1\u001B[0m \u001B[43mboard\u001B[49m\u001B[43m(\u001B[49m\u001B[38;5;241;43m1\u001B[39;49m\u001B[43m,\u001B[49m\u001B[38;5;241;43m4\u001B[39;49m\u001B[43m,\u001B[49m\u001B[38;5;241;43m5\u001B[39;49m\u001B[43m)\u001B[49m\n",
      "Cell \u001B[1;32mIn[19], line 17\u001B[0m, in \u001B[0;36mboard\u001B[1;34m(row, column, number)\u001B[0m\n\u001B[0;32m     15\u001B[0m \u001B[38;5;28;01mfor\u001B[39;00m i \u001B[38;5;129;01min\u001B[39;00m \u001B[38;5;28mrange\u001B[39m(\u001B[38;5;241m0\u001B[39m, \u001B[38;5;241m2\u001B[39m):\n\u001B[0;32m     16\u001B[0m     \u001B[38;5;28;01mfor\u001B[39;00m j \u001B[38;5;129;01min\u001B[39;00m \u001B[38;5;28mrange\u001B[39m(\u001B[38;5;241m0\u001B[39m, \u001B[38;5;241m2\u001B[39m):\n\u001B[1;32m---> 17\u001B[0m         \u001B[38;5;28;01mif\u001B[39;00m \u001B[43mngiven\u001B[49m\u001B[43m[\u001B[49m\u001B[43my0\u001B[49m\u001B[43m \u001B[49m\u001B[38;5;241;43m+\u001B[39;49m\u001B[43m \u001B[49m\u001B[43mi\u001B[49m\u001B[43m]\u001B[49m\u001B[43m[\u001B[49m\u001B[43mx0\u001B[49m\u001B[43m \u001B[49m\u001B[38;5;241;43m+\u001B[39;49m\u001B[43m \u001B[49m\u001B[43mj\u001B[49m\u001B[43m]\u001B[49m \u001B[38;5;241m==\u001B[39m number:\n\u001B[0;32m     18\u001B[0m             \u001B[38;5;28mprint\u001B[39m(\u001B[38;5;28;01mFalse\u001B[39;00m)\n\u001B[0;32m     19\u001B[0m     \u001B[38;5;28;01mreturn\u001B[39;00m \u001B[38;5;28;01mTrue\u001B[39;00m\n",
      "File \u001B[1;32m~\\AppData\\Local\\Programs\\Python\\Python312\\Lib\\site-packages\\numpy\\matrixlib\\defmatrix.py:194\u001B[0m, in \u001B[0;36mmatrix.__getitem__\u001B[1;34m(self, index)\u001B[0m\n\u001B[0;32m    191\u001B[0m \u001B[38;5;28mself\u001B[39m\u001B[38;5;241m.\u001B[39m_getitem \u001B[38;5;241m=\u001B[39m \u001B[38;5;28;01mTrue\u001B[39;00m\n\u001B[0;32m    193\u001B[0m \u001B[38;5;28;01mtry\u001B[39;00m:\n\u001B[1;32m--> 194\u001B[0m     out \u001B[38;5;241m=\u001B[39m \u001B[43mN\u001B[49m\u001B[38;5;241;43m.\u001B[39;49m\u001B[43mndarray\u001B[49m\u001B[38;5;241;43m.\u001B[39;49m\u001B[38;5;21;43m__getitem__\u001B[39;49m\u001B[43m(\u001B[49m\u001B[38;5;28;43mself\u001B[39;49m\u001B[43m,\u001B[49m\u001B[43m \u001B[49m\u001B[43mindex\u001B[49m\u001B[43m)\u001B[49m\n\u001B[0;32m    195\u001B[0m \u001B[38;5;28;01mfinally\u001B[39;00m:\n\u001B[0;32m    196\u001B[0m     \u001B[38;5;28mself\u001B[39m\u001B[38;5;241m.\u001B[39m_getitem \u001B[38;5;241m=\u001B[39m \u001B[38;5;28;01mFalse\u001B[39;00m\n",
      "\u001B[1;31mIndexError\u001B[0m: index 3 is out of bounds for axis 0 with size 1"
     ]
    }
   ],
   "source": [
    "board(1,4,5)"
   ],
   "metadata": {
    "collapsed": false,
    "ExecuteTime": {
     "end_time": "2024-02-02T13:16:13.348643200Z",
     "start_time": "2024-02-02T13:16:13.266799600Z"
    }
   },
   "id": "94720cb06f123c6f",
   "execution_count": 20
  },
  {
   "cell_type": "code",
   "outputs": [],
   "source": [],
   "metadata": {
    "collapsed": false,
    "ExecuteTime": {
     "start_time": "2024-02-02T13:16:13.331639900Z"
    }
   },
   "id": "b935082e578ee540"
  }
 ],
 "metadata": {
  "kernelspec": {
   "display_name": "Python 3",
   "language": "python",
   "name": "python3"
  },
  "language_info": {
   "codemirror_mode": {
    "name": "ipython",
    "version": 2
   },
   "file_extension": ".py",
   "mimetype": "text/x-python",
   "name": "python",
   "nbconvert_exporter": "python",
   "pygments_lexer": "ipython2",
   "version": "2.7.6"
  }
 },
 "nbformat": 4,
 "nbformat_minor": 5
}
